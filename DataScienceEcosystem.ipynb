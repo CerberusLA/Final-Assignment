{
 "cells": [
  {
   "cell_type": "markdown",
   "id": "c56254ec",
   "metadata": {},
   "source": [
    "# Data Science Tools and Ecosystem"
   ]
  },
  {
   "cell_type": "markdown",
   "id": "f9fa55e4",
   "metadata": {},
   "source": [
    "# In this notebook, my work in Data Science Tools & Ecosystem are summerized"
   ]
  },
  {
   "cell_type": "markdown",
   "id": "4c1fadfa",
   "metadata": {},
   "source": [
    "# Objectives\n",
    "\n",
    "    * List some Examples of open-source tools used in Data Science\n",
    "    * Describe some of the features of Open-Source Tools\n",
    "    * Provide examples and soursces of commercial and cloud based data science tools"
   ]
  },
  {
   "cell_type": "markdown",
   "id": "83db06ee",
   "metadata": {},
   "source": [
    "Some of the popular languages that Data Scientists use are:\n",
    "\n",
    "1) Python - Python is the language I'm most familiar with\n",
    "2) R - R is a great statistical language like Matlab\n",
    "3) SQL - SQL is the language I'm most comfortable with and easy to learn"
   ]
  },
  {
   "cell_type": "markdown",
   "id": "e2f1a4e0",
   "metadata": {},
   "source": [
    "Some of the commonly used libraries used by Data Scientists include:\n",
    "\n",
    "1) Pandas\n",
    "2) NumPy\n",
    "3) Scikit-Learn &\n",
    "4) Matplotlib\n"
   ]
  },
  {
   "cell_type": "markdown",
   "id": "d30a7874",
   "metadata": {},
   "source": [
    "Data Science Tools\n",
    "\n",
    "RStudio\n",
    "\n",
    "Jupyter Notebooks\n",
    "\n",
    "Apache Spark\n"
   ]
  },
  {
   "cell_type": "markdown",
   "id": "7db069a1",
   "metadata": {},
   "source": [
    "### Below are a few examples of evaluating arithmetic expressions in Python"
   ]
  },
  {
   "cell_type": "code",
   "execution_count": 1,
   "id": "0ccb229c",
   "metadata": {},
   "outputs": [
    {
     "data": {
      "text/plain": [
       "17"
      ]
     },
     "execution_count": 1,
     "metadata": {},
     "output_type": "execute_result"
    }
   ],
   "source": [
    "# This a simple arithmetic expression to mutiply then add integers\n",
    "\n",
    "(3*4)+5\n"
   ]
  },
  {
   "cell_type": "code",
   "execution_count": 4,
   "id": "20276fdb",
   "metadata": {},
   "outputs": [
    {
     "data": {
      "text/plain": [
       "3.3333333333333335"
      ]
     },
     "execution_count": 4,
     "metadata": {},
     "output_type": "execute_result"
    }
   ],
   "source": [
    "# This will convert 200 minutes to hours by diving by 60.\n",
    "\n",
    "minutes = 200\n",
    "hours = minutes / 60\n",
    "200/60\n",
    "\n"
   ]
  },
  {
   "cell_type": "markdown",
   "id": "035e6d6d",
   "metadata": {},
   "source": [
    "## Author\n",
    "Christopher Davis"
   ]
  },
  {
   "cell_type": "code",
   "execution_count": null,
   "id": "94c8a998",
   "metadata": {},
   "outputs": [],
   "source": []
  }
 ],
 "metadata": {
  "kernelspec": {
   "display_name": "Python 3 (ipykernel)",
   "language": "python",
   "name": "python3"
  },
  "language_info": {
   "codemirror_mode": {
    "name": "ipython",
    "version": 3
   },
   "file_extension": ".py",
   "mimetype": "text/x-python",
   "name": "python",
   "nbconvert_exporter": "python",
   "pygments_lexer": "ipython3",
   "version": "3.9.13"
  }
 },
 "nbformat": 4,
 "nbformat_minor": 5
}
